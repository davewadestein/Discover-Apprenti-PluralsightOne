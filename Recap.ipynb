{
 "cells": [
  {
   "cell_type": "markdown",
   "metadata": {},
   "source": [
    "# What are our big programming concepts?\n",
    "* CPU as \"Brain\"\n",
    "  * what can a CPU do?\n",
    "    * load/store data to/from RAM\n",
    "    * math/computation/processing/logic\n",
    "    * branching/jumping instructions\n",
    "* variables\n",
    "  * named boxes inside the computer's memory (or inside Python's memory)\n",
    "  * pick good names, that let us know what's inside them\n",
    "  * do not reuse names, make new variables\n",
    "  * scalars = variables that contain a single value (1 and exactly 1 value)\n",
    "  * containers = variables that contain 0+ (0 or more) things\n",
    "    * think of an egg carton (not a perfect analogy because it's limited to 12 slots)\n",
    "* asking questions / decision statements / if statements\n",
    "  * we want to be able to compare values with one another\n",
    "  * \"is the temperature above freezing?\" (comparing the temperature variable with some constant, e.g., 32º)\n",
    "  * if it looks like rain, you will being an umbrella"
   ]
  },
  {
   "cell_type": "code",
   "execution_count": 1,
   "metadata": {},
   "outputs": [],
   "source": [
    "year = 2024 # create variable called year (CPU: \"retrieve\" current year from long-term memory)\n",
    "month = 8"
   ]
  },
  {
   "cell_type": "code",
   "execution_count": 2,
   "metadata": {},
   "outputs": [
    {
     "data": {
      "text/plain": [
       "2032"
      ]
     },
     "execution_count": 2,
     "metadata": {},
     "output_type": "execute_result"
    }
   ],
   "source": [
    "year + month"
   ]
  },
  {
   "cell_type": "code",
   "execution_count": 3,
   "metadata": {},
   "outputs": [
    {
     "data": {
      "text/plain": [
       "True"
      ]
     },
     "execution_count": 3,
     "metadata": {},
     "output_type": "execute_result"
    }
   ],
   "source": [
    "year == 2024"
   ]
  },
  {
   "cell_type": "code",
   "execution_count": 4,
   "metadata": {},
   "outputs": [
    {
     "name": "stdout",
     "output_type": "stream",
     "text": [
      "24288\n"
     ]
    }
   ],
   "source": [
    "if year == 2024: # is the year 2024?\n",
    "    print(year * 12) # what is this? the numbers of months since 0"
   ]
  },
  {
   "cell_type": "code",
   "execution_count": 5,
   "metadata": {},
   "outputs": [
    {
     "data": {
      "text/plain": [
       "22.77777777777778"
      ]
     },
     "execution_count": 5,
     "metadata": {},
     "output_type": "execute_result"
    }
   ],
   "source": [
    "temperature = 73 # Chicago temp\n",
    "(temperature - 32) * 5/9"
   ]
  },
  {
   "cell_type": "code",
   "execution_count": 6,
   "metadata": {},
   "outputs": [],
   "source": [
    "if temperature < 32: # ask a question–is the temperature below 32\n",
    "    print('wear a jacket, gloves, hat')"
   ]
  },
  {
   "cell_type": "code",
   "execution_count": 12,
   "metadata": {},
   "outputs": [],
   "source": [
    "string = 'a.b.c.d.e'"
   ]
  },
  {
   "cell_type": "code",
   "execution_count": 13,
   "metadata": {},
   "outputs": [
    {
     "name": "stdout",
     "output_type": "stream",
     "text": [
      "a.b.c.d.e\n"
     ]
    }
   ],
   "source": [
    "print(string)"
   ]
  },
  {
   "cell_type": "code",
   "execution_count": 14,
   "metadata": {},
   "outputs": [
    {
     "data": {
      "text/plain": [
       "9"
      ]
     },
     "execution_count": 14,
     "metadata": {},
     "output_type": "execute_result"
    }
   ],
   "source": [
    "len(string) # tell us the length of the string using built-in function 'len'"
   ]
  },
  {
   "cell_type": "code",
   "execution_count": 15,
   "metadata": {},
   "outputs": [
    {
     "name": "stdout",
     "output_type": "stream",
     "text": [
      "a\n",
      ".\n",
      "b\n",
      ".\n",
      "c\n",
      ".\n",
      "d\n",
      ".\n",
      "e\n"
     ]
    }
   ],
   "source": [
    "for character in string: # visit each character in the string, put it in the variable 'character'\n",
    "    print(character) # print out that character"
   ]
  },
  {
   "cell_type": "code",
   "execution_count": 16,
   "metadata": {},
   "outputs": [],
   "source": [
    "# if statements"
   ]
  },
  {
   "cell_type": "code",
   "execution_count": 17,
   "metadata": {},
   "outputs": [],
   "source": [
    "# write a program to ask the user for the bill subtotal and tax rate\n",
    "# and then compute the total bill with tax\n",
    "subtotal = float(input('Enter the amount of the bill before tax: ')) # convert to float because dollars and cents"
   ]
  },
  {
   "cell_type": "code",
   "execution_count": 20,
   "metadata": {},
   "outputs": [
    {
     "data": {
      "text/plain": [
       "19.95"
      ]
     },
     "execution_count": 20,
     "metadata": {},
     "output_type": "execute_result"
    }
   ],
   "source": [
    "subtotal"
   ]
  },
  {
   "cell_type": "code",
   "execution_count": 26,
   "metadata": {},
   "outputs": [],
   "source": [
    "tax_rate = float(input('Enter tax rate as a percentage, e.g, 7.5: '))"
   ]
  },
  {
   "cell_type": "code",
   "execution_count": 27,
   "metadata": {},
   "outputs": [
    {
     "data": {
      "text/plain": [
       "5.75"
      ]
     },
     "execution_count": 27,
     "metadata": {},
     "output_type": "execute_result"
    }
   ],
   "source": [
    "tax_rate"
   ]
  },
  {
   "cell_type": "code",
   "execution_count": 28,
   "metadata": {},
   "outputs": [
    {
     "data": {
      "text/plain": [
       "1.147125"
      ]
     },
     "execution_count": 28,
     "metadata": {},
     "output_type": "execute_result"
    }
   ],
   "source": [
    "# tax rate is, say, 8.25% which means we have to divide that by 100 (yielding .0825)\n",
    "# to compute the tax \n",
    "tax = subtotal * (tax_rate / 100.0)\n",
    "tax"
   ]
  },
  {
   "cell_type": "code",
   "execution_count": null,
   "metadata": {},
   "outputs": [],
   "source": [
    "exempt = input('Is this purchase tax-exempt (y/n)?')"
   ]
  },
  {
   "cell_type": "code",
   "execution_count": 31,
   "metadata": {},
   "outputs": [],
   "source": [
    "subtotal = float(input('Enter the amount of the bill before tax: ')) # convert to float because dollars and cents\n",
    "tax_rate = float(input('Enter tax rate as a percentage, e.g, 7.5: '))\n",
    "exempt = input('Is this purchase tax-exempt (y/n)?')"
   ]
  },
  {
   "cell_type": "code",
   "execution_count": 32,
   "metadata": {},
   "outputs": [
    {
     "data": {
      "text/plain": [
       "(25.33, 6.5, 'y')"
      ]
     },
     "execution_count": 32,
     "metadata": {},
     "output_type": "execute_result"
    }
   ],
   "source": [
    "subtotal, tax_rate, exempt"
   ]
  },
  {
   "cell_type": "code",
   "execution_count": 41,
   "metadata": {},
   "outputs": [
    {
     "ename": "ValueError",
     "evalue": "could not convert string to float: 'what?'",
     "output_type": "error",
     "traceback": [
      "\u001b[0;31m---------------------------------------------------------------------------\u001b[0m",
      "\u001b[0;31mValueError\u001b[0m                                Traceback (most recent call last)",
      "Cell \u001b[0;32mIn[41], line 1\u001b[0m\n\u001b[0;32m----> 1\u001b[0m subtotal \u001b[38;5;241m=\u001b[39m \u001b[38;5;28;43mfloat\u001b[39;49m\u001b[43m(\u001b[49m\u001b[38;5;28;43minput\u001b[39;49m\u001b[43m(\u001b[49m\u001b[38;5;124;43m'\u001b[39;49m\u001b[38;5;124;43mEnter the amount of the bill before tax: \u001b[39;49m\u001b[38;5;124;43m'\u001b[39;49m\u001b[43m)\u001b[49m\u001b[43m)\u001b[49m \u001b[38;5;66;03m# convert to float because dollars and cents\u001b[39;00m\n\u001b[1;32m      2\u001b[0m tax_rate \u001b[38;5;241m=\u001b[39m \u001b[38;5;28mfloat\u001b[39m(\u001b[38;5;28minput\u001b[39m(\u001b[38;5;124m'\u001b[39m\u001b[38;5;124mEnter tax rate as a percentage, e.g, 7.5: \u001b[39m\u001b[38;5;124m'\u001b[39m))\n\u001b[1;32m      3\u001b[0m exempt \u001b[38;5;241m=\u001b[39m \u001b[38;5;28minput\u001b[39m(\u001b[38;5;124m'\u001b[39m\u001b[38;5;124mIs this purchase tax-exempt (y/n)?\u001b[39m\u001b[38;5;124m'\u001b[39m)\n",
      "\u001b[0;31mValueError\u001b[0m: could not convert string to float: 'what?'"
     ]
    }
   ],
   "source": [
    "subtotal = float(input('Enter the amount of the bill before tax: ')) # convert to float because dollars and cents\n",
    "tax_rate = float(input('Enter tax rate as a percentage, e.g, 7.5: '))\n",
    "exempt = input('Is this purchase tax-exempt (y/n)?')\n",
    "\n",
    "if exempt == 'y': # tax exempt, i.e., no tax to calculate\n",
    "    total = subtotal # no tax \n",
    "    print('tax exempt')\n",
    "else: \n",
    "    #total = subtotal * (1.0 + tax_rate / 100.0) # add tax since not exempt\n",
    "    total = subtotal + subtotal * (tax_rate / 100.0)\n",
    "\n",
    "print('total bill', total)"
   ]
  },
  {
   "cell_type": "code",
   "execution_count": 37,
   "metadata": {},
   "outputs": [
    {
     "data": {
      "text/plain": [
       "(20.0, 6.0)"
      ]
     },
     "execution_count": 37,
     "metadata": {},
     "output_type": "execute_result"
    }
   ],
   "source": [
    "subtotal, tax_rate"
   ]
  },
  {
   "cell_type": "code",
   "execution_count": 38,
   "metadata": {},
   "outputs": [
    {
     "data": {
      "text/plain": [
       "21.200000000000003"
      ]
     },
     "execution_count": 38,
     "metadata": {},
     "output_type": "execute_result"
    }
   ],
   "source": [
    "subtotal * (1.0 + tax_rate / 100.0)"
   ]
  },
  {
   "cell_type": "code",
   "execution_count": null,
   "metadata": {},
   "outputs": [],
   "source": []
  }
 ],
 "metadata": {
  "kernelspec": {
   "display_name": "Python 3",
   "language": "python",
   "name": "python3"
  },
  "language_info": {
   "codemirror_mode": {
    "name": "ipython",
    "version": 3
   },
   "file_extension": ".py",
   "mimetype": "text/x-python",
   "name": "python",
   "nbconvert_exporter": "python",
   "pygments_lexer": "ipython3",
   "version": "3.12.2"
  }
 },
 "nbformat": 4,
 "nbformat_minor": 2
}
