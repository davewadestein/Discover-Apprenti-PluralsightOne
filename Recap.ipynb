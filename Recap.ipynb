{
 "cells": [
  {
   "cell_type": "markdown",
   "metadata": {},
   "source": [
    "# What are our big programming concepts?\n",
    "* CPU as \"Brain\"\n",
    "  * what can a CPU do?\n",
    "    * load/store data to/from RAM\n",
    "    * math/computation/processing/logic\n",
    "    * branching/jumping instructions\n",
    "* variables\n",
    "  * named boxes inside the computer's memory (or inside Python's memory)\n",
    "  * pick good names, that let us know what's inside them\n",
    "  * do not reuse names, make new variables\n",
    "  * scalars = variables that contain a single value (1 and exactly 1 value)\n",
    "  * containers = variables that contain 0+ (0 or more) things\n",
    "    * think of an egg carton (not a perfect analogy because it's limited to 12 slots)\n",
    "* asking questions / decision statements / if statements\n",
    "  * we want to be able to compare values with one another\n",
    "  * \"is the temperature above freezing?\" (comparing the temperature variable with some constant, e.g., 32º)\n",
    "  * if it looks like rain, you will being an umbrella"
   ]
  },
  {
   "cell_type": "code",
   "execution_count": 1,
   "metadata": {},
   "outputs": [],
   "source": [
    "year = 2024 # create variable called year (CPU: \"retrieve\" current year from long-term memory)\n",
    "month = 8"
   ]
  },
  {
   "cell_type": "code",
   "execution_count": 2,
   "metadata": {},
   "outputs": [
    {
     "data": {
      "text/plain": [
       "2032"
      ]
     },
     "execution_count": 2,
     "metadata": {},
     "output_type": "execute_result"
    }
   ],
   "source": [
    "year + month"
   ]
  },
  {
   "cell_type": "code",
   "execution_count": 3,
   "metadata": {},
   "outputs": [
    {
     "data": {
      "text/plain": [
       "True"
      ]
     },
     "execution_count": 3,
     "metadata": {},
     "output_type": "execute_result"
    }
   ],
   "source": [
    "year == 2024"
   ]
  },
  {
   "cell_type": "code",
   "execution_count": 4,
   "metadata": {},
   "outputs": [
    {
     "name": "stdout",
     "output_type": "stream",
     "text": [
      "24288\n"
     ]
    }
   ],
   "source": [
    "if year == 2024: # is the year 2024?\n",
    "    print(year * 12) # what is this? the numbers of months since 0"
   ]
  },
  {
   "cell_type": "code",
   "execution_count": 5,
   "metadata": {},
   "outputs": [
    {
     "data": {
      "text/plain": [
       "22.77777777777778"
      ]
     },
     "execution_count": 5,
     "metadata": {},
     "output_type": "execute_result"
    }
   ],
   "source": [
    "temperature = 73 # Chicago temp\n",
    "(temperature - 32) * 5/9"
   ]
  },
  {
   "cell_type": "code",
   "execution_count": 6,
   "metadata": {},
   "outputs": [],
   "source": [
    "if temperature < 32: # ask a question–is the temperature below 32\n",
    "    print('wear a jacket, gloves, hat')"
   ]
  },
  {
   "cell_type": "code",
   "execution_count": 12,
   "metadata": {},
   "outputs": [],
   "source": [
    "string = 'a.b.c.d.e'"
   ]
  },
  {
   "cell_type": "code",
   "execution_count": 13,
   "metadata": {},
   "outputs": [
    {
     "name": "stdout",
     "output_type": "stream",
     "text": [
      "a.b.c.d.e\n"
     ]
    }
   ],
   "source": [
    "print(string)"
   ]
  },
  {
   "cell_type": "code",
   "execution_count": 14,
   "metadata": {},
   "outputs": [
    {
     "data": {
      "text/plain": [
       "9"
      ]
     },
     "execution_count": 14,
     "metadata": {},
     "output_type": "execute_result"
    }
   ],
   "source": [
    "len(string) # tell us the length of the string using built-in function 'len'"
   ]
  },
  {
   "cell_type": "code",
   "execution_count": 15,
   "metadata": {},
   "outputs": [
    {
     "name": "stdout",
     "output_type": "stream",
     "text": [
      "a\n",
      ".\n",
      "b\n",
      ".\n",
      "c\n",
      ".\n",
      "d\n",
      ".\n",
      "e\n"
     ]
    }
   ],
   "source": [
    "for character in string: # visit each character in the string, put it in the variable 'character'\n",
    "    print(character) # print out that character"
   ]
  },
  {
   "cell_type": "code",
   "execution_count": 16,
   "metadata": {},
   "outputs": [],
   "source": [
    "# if statements"
   ]
  },
  {
   "cell_type": "code",
   "execution_count": 17,
   "metadata": {},
   "outputs": [],
   "source": [
    "# write a program to ask the user for the bill subtotal and tax rate\n",
    "# and then compute the total bill with tax\n",
    "subtotal = float(input('Enter the amount of the bill before tax: ')) # convert to float because dollars and cents"
   ]
  },
  {
   "cell_type": "code",
   "execution_count": 20,
   "metadata": {},
   "outputs": [
    {
     "data": {
      "text/plain": [
       "19.95"
      ]
     },
     "execution_count": 20,
     "metadata": {},
     "output_type": "execute_result"
    }
   ],
   "source": [
    "subtotal"
   ]
  },
  {
   "cell_type": "code",
   "execution_count": 26,
   "metadata": {},
   "outputs": [],
   "source": [
    "tax_rate = float(input('Enter tax rate as a percentage, e.g, 7.5: '))"
   ]
  },
  {
   "cell_type": "code",
   "execution_count": 27,
   "metadata": {},
   "outputs": [
    {
     "data": {
      "text/plain": [
       "5.75"
      ]
     },
     "execution_count": 27,
     "metadata": {},
     "output_type": "execute_result"
    }
   ],
   "source": [
    "tax_rate"
   ]
  },
  {
   "cell_type": "code",
   "execution_count": 28,
   "metadata": {},
   "outputs": [
    {
     "data": {
      "text/plain": [
       "1.147125"
      ]
     },
     "execution_count": 28,
     "metadata": {},
     "output_type": "execute_result"
    }
   ],
   "source": [
    "# tax rate is, say, 8.25% which means we have to divide that by 100 (yielding .0825)\n",
    "# to compute the tax \n",
    "tax = subtotal * (tax_rate / 100.0)\n",
    "tax"
   ]
  },
  {
   "cell_type": "code",
   "execution_count": null,
   "metadata": {},
   "outputs": [],
   "source": [
    "exempt = input('Is this purchase tax-exempt (y/n)?')"
   ]
  },
  {
   "cell_type": "code",
   "execution_count": 31,
   "metadata": {},
   "outputs": [],
   "source": [
    "subtotal = float(input('Enter the amount of the bill before tax: ')) # convert to float because dollars and cents\n",
    "tax_rate = float(input('Enter tax rate as a percentage, e.g, 7.5: '))\n",
    "exempt = input('Is this purchase tax-exempt (y/n)?')"
   ]
  },
  {
   "cell_type": "code",
   "execution_count": 32,
   "metadata": {},
   "outputs": [
    {
     "data": {
      "text/plain": [
       "(25.33, 6.5, 'y')"
      ]
     },
     "execution_count": 32,
     "metadata": {},
     "output_type": "execute_result"
    }
   ],
   "source": [
    "subtotal, tax_rate, exempt"
   ]
  },
  {
   "cell_type": "code",
   "execution_count": 69,
   "metadata": {},
   "outputs": [],
   "source": [
    "# 1. get a purchase amount from the user, call it subtotal\n",
    "# 2. get the tax rate as a percentage\n",
    "# 3. get an idea of whether this purchase is tax exempt (or not)\n",
    "# 4. if tax exempt:\n",
    "# 5.     tax = subtotal * (tax rate / 100) \n",
    "# 6. else (not tax exempt)\n",
    "# 7.     tax = 0\n",
    "# 8. total = subtotal + tax"
   ]
  },
  {
   "cell_type": "code",
   "execution_count": 81,
   "metadata": {},
   "outputs": [
    {
     "name": "stdout",
     "output_type": "stream",
     "text": [
      "total is 100.0\n"
     ]
    }
   ],
   "source": [
    "# 1. get a purchase amount from the user, call it subtotal\n",
    "# 1a. float-ify it, so it's not a string\n",
    "subtotal = float(input('How much was the purchase? ')) # 1, 1a\n",
    "# 2. get the tax rate as a percentage\n",
    "tax_rate = float(input('What is the tax rate (as a percent)? '))\n",
    "# 3. get an idea of whether this purchase is tax exempt (or not)\n",
    "exempt = input('Is this tax exempt (y/n)? ')\n",
    "# 4. if tax exempt:\n",
    "# 5.     tax = 0\n",
    "# 6. else (not tax exempt)\n",
    "# 7.     tax = subtotal * (tax rate / 100) \n",
    "if exempt == 'y': # 4\n",
    "    tax = 0 # no tax, because purchase was tax exempt\n",
    "else: # 6\n",
    "    tax = subtotal * (tax_rate / 100) # 7\n",
    "# 8. total = subtotal + tax\n",
    "print('total is', subtotal + tax)"
   ]
  },
  {
   "cell_type": "code",
   "execution_count": 78,
   "metadata": {},
   "outputs": [
    {
     "data": {
      "text/plain": [
       "(100.0, 7.0, 'y', 0)"
      ]
     },
     "execution_count": 78,
     "metadata": {},
     "output_type": "execute_result"
    }
   ],
   "source": [
    "subtotal, tax_rate, exempt, tax"
   ]
  },
  {
   "cell_type": "code",
   "execution_count": 38,
   "metadata": {},
   "outputs": [
    {
     "data": {
      "text/plain": [
       "21.200000000000003"
      ]
     },
     "execution_count": 38,
     "metadata": {},
     "output_type": "execute_result"
    }
   ],
   "source": [
    "subtotal * (1.0 + tax_rate / 100.0)"
   ]
  },
  {
   "cell_type": "code",
   "execution_count": 42,
   "metadata": {},
   "outputs": [],
   "source": [
    "# compute the average of 3 quiz scores\n",
    "# 1. have user enter 3 scores\n",
    "# 2. compute average of the 3 scores"
   ]
  },
  {
   "cell_type": "code",
   "execution_count": 45,
   "metadata": {},
   "outputs": [],
   "source": [
    "quiz1 = int(input('Enter score for quiz 1: ')) # 1\n",
    "quiz2 = int(input('Enter score for quiz 2: ')) # 1 \n",
    "quiz3 = int(input('Enter score for quiz 3: ')) # 1"
   ]
  },
  {
   "cell_type": "code",
   "execution_count": 46,
   "metadata": {},
   "outputs": [
    {
     "data": {
      "text/plain": [
       "(92, 88, 86)"
      ]
     },
     "execution_count": 46,
     "metadata": {},
     "output_type": "execute_result"
    }
   ],
   "source": [
    "quiz1, quiz2, quiz3"
   ]
  },
  {
   "cell_type": "code",
   "execution_count": null,
   "metadata": {},
   "outputs": [],
   "source": [
    "# 1. get 3 quiz scores from the user\n",
    "# 2. compute the average and print it out\n",
    "# 2a. average = (sum of 3 scores) / 3\n",
    "# 3. if average is >= 90, give them an 'A'\n",
    "# 4. else if average is >= 80 give them an 'B'\n",
    "# 5. ... > 70 'C'\n",
    "# 6. ... > 60 'D' \n",
    "# 7. < 60 'F'"
   ]
  },
  {
   "cell_type": "code",
   "execution_count": 52,
   "metadata": {},
   "outputs": [
    {
     "name": "stdout",
     "output_type": "stream",
     "text": [
      "Average quiz score is 0.0\n",
      "Grade is F\n"
     ]
    }
   ],
   "source": [
    "quiz1 = int(input('Enter score for quiz 1: ')) # 1\n",
    "quiz2 = int(input('Enter score for quiz 2: ')) # 1 \n",
    "quiz3 = int(input('Enter score for quiz 3: ')) # 1\n",
    "average = (quiz1 + quiz2 + quiz3) / 3 # 2a\n",
    "print('Average quiz score is', average) # 2\n",
    "\n",
    "print('Grade is', end=' ') # end=' ' tells print() NOT to print a newline at the end, instead print a single space\n",
    "if average >= 90: # 3\n",
    "    print('A') # 3\n",
    "elif average >= 80: # 4\n",
    "    print('B') # 4\n",
    "elif average >= 70: # 5\n",
    "    print('C') # 5\n",
    "elif average >= 60: # 6\n",
    "    print('D') # 6\n",
    "else:\n",
    "    print('F') # 7"
   ]
  },
  {
   "cell_type": "code",
   "execution_count": null,
   "metadata": {},
   "outputs": [],
   "source": [
    "# 1. get number of miles driven for a day from user (and int-ify)\n",
    "# 2. ask user if they want to see projected miles drive for a week, a month, or a year\n",
    "# 3. compute miles driven for week, month, or year (whatever used asked for)\n",
    "# 3a. if 'week', then multiply miles by 7\n",
    "# 3b. elif 'month', multiply by 30\n",
    "# 3c. elif 'year', multiply by 365\n",
    "# 4. print result"
   ]
  },
  {
   "cell_type": "code",
   "execution_count": 82,
   "metadata": {},
   "outputs": [
    {
     "name": "stdout",
     "output_type": "stream",
     "text": [
      "Unknown period: gazornin\n",
      "Miles driven in a gazornin would be 32120\n"
     ]
    }
   ],
   "source": [
    "miles_driven_per_day = int(input('How many miles driven in a day? ')) # 1\n",
    "period = input('Do you want to see miles driven per week, month, or year? ') # 2\n",
    "\n",
    "if period == 'week': # 3a\n",
    "    result = miles_driven_per_day * 7 # 3a\n",
    "elif period == 'month': # 3b\n",
    "    result = miles_driven_per_day * 30 # 3b\n",
    "elif period == 'year': # 3c\n",
    "    result = miles_driven_per_day * 365 # 3c\n",
    "else:\n",
    "    print('Unknown period:', period)\n",
    "\n",
    "# we don't really want to print this unless user gave us a valid period\n",
    "# we can fix this...\n",
    "print('Miles driven in a', period, 'would be', result)\n"
   ]
  },
  {
   "cell_type": "code",
   "execution_count": 53,
   "metadata": {},
   "outputs": [],
   "source": [
    "response = input('Enter [w]eek, [m]onth, or [y]ear? ')"
   ]
  },
  {
   "cell_type": "code",
   "execution_count": 55,
   "metadata": {},
   "outputs": [
    {
     "data": {
      "text/plain": [
       "True"
      ]
     },
     "execution_count": 55,
     "metadata": {},
     "output_type": "execute_result"
    }
   ],
   "source": [
    "if response == 'w' or response == 'week'"
   ]
  },
  {
   "cell_type": "code",
   "execution_count": null,
   "metadata": {},
   "outputs": [],
   "source": [
    "# 1. enter number of hours worked per week\n",
    "# 2. enter hourly wage\n",
    "# 3. compute wage for the week...\n",
    "# 3a. if hours > 40 then 1.5 times hourly rate for overtime hours\n",
    "# 3b    set overtime hours to hours - 40\n",
    "# 3c    set regular hours worked to 40 \n",
    "# 4a overtime wages = overtime hours * (hourly wage * 1.5)\n",
    "# 4b regular wages = regular hours * hourly wage"
   ]
  },
  {
   "cell_type": "code",
   "execution_count": 68,
   "metadata": {},
   "outputs": [
    {
     "name": "stdout",
     "output_type": "stream",
     "text": [
      "Regular hours = 40.0\n",
      "Overtime hours = 10.0\n",
      "Your salary for the week is $800.00 plus $300.00 in overtime wages\n"
     ]
    }
   ],
   "source": [
    "hours_worked = float(input('How many hours worked this week? ')) # 1 could be fractional, e.g., 40.5\n",
    "hourly_wage = float(input('What is your hourly wage? ')) # 2\n",
    "overtime_hours = 0\n",
    "\n",
    "if hours_worked > 40: # 3a overtime\n",
    "    overtime_hours = hours_worked - 40 # 3b\n",
    "    hours_worked = 40.0 # 3c\n",
    "\n",
    "overtime_wages = overtime_hours * (1.5 * hourly_wage) # 4a\n",
    "regular_wages = hours_worked * hourly_wage # 4b\n",
    "\n",
    "print('Regular hours =', hours_worked) \n",
    "print('Overtime hours =', overtime_hours)\n",
    "\n",
    "print('Your salary for the week is', regular_wages, 'plus overtime wages:', overtime_wages)\n",
    "print(f'Your salary for the week is ${regular_wages:.2f} plus ${overtime_wages:.2f} in overtime wages')\n"
   ]
  },
  {
   "cell_type": "code",
   "execution_count": null,
   "metadata": {},
   "outputs": [],
   "source": [
    "# 1. Ask how many adults are in your party\n",
    "# 2. Ask how many children are in your party\n",
    "# 3. Adult tickets are $10 each, child tickets are $6\n",
    "# 4. If you have 4+ children with you, the children's tickets are $4 each\n",
    "# 4a. If you have 5+ adults, adult tickets are $8 each\n",
    "# 5. How much should your party be charged?"
   ]
  },
  {
   "cell_type": "code",
   "execution_count": 85,
   "metadata": {},
   "outputs": [
    {
     "name": "stdout",
     "output_type": "stream",
     "text": [
      "56\n"
     ]
    }
   ],
   "source": [
    "num_adults = int(input('How many adults in your party? ')) # 1\n",
    "num_kids = int(input('How many kids in your party? ')) # 2\n",
    "\n",
    "adult_ticket_price = 10 # 3\n",
    "kid_ticket_price = 6 # 3\n",
    "\n",
    "if num_kids >= 4:\n",
    "    kid_ticket_price = 4 # 4\n",
    "\n",
    "if num_adults >= 5:\n",
    "    adult_ticket_price = 8 # 4a\n",
    "\n",
    "total = num_kids * kid_ticket_price + num_adults * adult_ticket_price # 5\n",
    "\n",
    "print(total)\n",
    "\n",
    "\n"
   ]
  },
  {
   "cell_type": "code",
   "execution_count": null,
   "metadata": {},
   "outputs": [],
   "source": []
  }
 ],
 "metadata": {
  "kernelspec": {
   "display_name": "Python 3",
   "language": "python",
   "name": "python3"
  },
  "language_info": {
   "codemirror_mode": {
    "name": "ipython",
    "version": 3
   },
   "file_extension": ".py",
   "mimetype": "text/x-python",
   "name": "python",
   "nbconvert_exporter": "python",
   "pygments_lexer": "ipython3",
   "version": "3.12.2"
  }
 },
 "nbformat": 4,
 "nbformat_minor": 2
}
