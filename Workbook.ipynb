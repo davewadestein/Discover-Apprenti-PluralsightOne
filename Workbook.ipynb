{
 "cells": [
  {
   "cell_type": "markdown",
   "metadata": {},
   "source": [
    "# Important Concepts About Python\n",
    "* types of variables: scalars vs. containers\n",
    "  * scalar = a single value (e.g., int, float, bool)\n",
    "  * container = 0+ values can be inside it\n",
    "    * e.g. str, \n"
   ]
  },
  {
   "cell_type": "markdown",
   "metadata": {},
   "source": [
    "# Important Thoughts About Programming\n",
    "* write things down!\n",
    "  1. first write the steps that you could give to another human\n",
    "  1. next, refine those into pseudocode (but still not worrying about coding details)\n",
    "* also consider writing down\n",
    "  * flowcharts or other visual aids\n",
    "* determine test cases\n",
    "  * you should do this beforehand (\"test-driven development\")\n",
    "  * in the case of leap year ... 1900, 2000, 2023, 2024\n",
    "* test your code!\n",
    "  * let someone else run it\n",
    "  * try all test cases (not always possible)\n",
    "  * when things don't work...\n",
    "    * take a break / venue change\n",
    "    * pythontutor.com\n",
    "    * avoid using VS Code Debugger (for now)\n",
    "    * ChatGPT probably fine (\"don't tell me the answer, tell me what direction to go\")\n",
    "* THREE common errors programmers make:\n",
    "  * uninitialized / wrongly initialized variables\n",
    "  * off by one errors\n"
   ]
  },
  {
   "cell_type": "code",
   "execution_count": 10,
   "metadata": {},
   "outputs": [
    {
     "data": {
      "text/plain": [
       "'J'"
      ]
     },
     "execution_count": 10,
     "metadata": {},
     "output_type": "execute_result"
    }
   ],
   "source": [
    "name[0]"
   ]
  },
  {
   "cell_type": "code",
   "execution_count": 11,
   "metadata": {},
   "outputs": [
    {
     "data": {
      "text/plain": [
       "'e'"
      ]
     },
     "execution_count": 11,
     "metadata": {},
     "output_type": "execute_result"
    }
   ],
   "source": [
    "name[1]"
   ]
  },
  {
   "cell_type": "code",
   "execution_count": 12,
   "metadata": {},
   "outputs": [],
   "source": [
    "number = 12345"
   ]
  },
  {
   "cell_type": "code",
   "execution_count": 13,
   "metadata": {},
   "outputs": [],
   "source": [
    "number = 3"
   ]
  },
  {
   "cell_type": "code",
   "execution_count": 15,
   "metadata": {},
   "outputs": [],
   "source": [
    "s = '123456789'"
   ]
  },
  {
   "cell_type": "code",
   "execution_count": 17,
   "metadata": {},
   "outputs": [
    {
     "data": {
      "text/plain": [
       "'5'"
      ]
     },
     "execution_count": 17,
     "metadata": {},
     "output_type": "execute_result"
    }
   ],
   "source": [
    "s[4]"
   ]
  },
  {
   "cell_type": "code",
   "execution_count": 18,
   "metadata": {},
   "outputs": [],
   "source": [
    "number = 123456789"
   ]
  },
  {
   "cell_type": "code",
   "execution_count": 19,
   "metadata": {},
   "outputs": [
    {
     "ename": "TypeError",
     "evalue": "'int' object is not subscriptable",
     "output_type": "error",
     "traceback": [
      "\u001b[0;31m---------------------------------------------------------------------------\u001b[0m",
      "\u001b[0;31mTypeError\u001b[0m                                 Traceback (most recent call last)",
      "Cell \u001b[0;32mIn[19], line 1\u001b[0m\n\u001b[0;32m----> 1\u001b[0m \u001b[43mnumber\u001b[49m\u001b[43m[\u001b[49m\u001b[38;5;241;43m0\u001b[39;49m\u001b[43m]\u001b[49m\n",
      "\u001b[0;31mTypeError\u001b[0m: 'int' object is not subscriptable"
     ]
    }
   ],
   "source": [
    "number[0]"
   ]
  },
  {
   "cell_type": "code",
   "execution_count": 20,
   "metadata": {},
   "outputs": [
    {
     "data": {
      "text/plain": [
       "123"
      ]
     },
     "execution_count": 20,
     "metadata": {},
     "output_type": "execute_result"
    }
   ],
   "source": [
    "int('123')"
   ]
  },
  {
   "cell_type": "code",
   "execution_count": 21,
   "metadata": {},
   "outputs": [
    {
     "data": {
      "text/plain": [
       "22.0"
      ]
     },
     "execution_count": 21,
     "metadata": {},
     "output_type": "execute_result"
    }
   ],
   "source": [
    "float(22)"
   ]
  },
  {
   "cell_type": "code",
   "execution_count": 22,
   "metadata": {},
   "outputs": [
    {
     "data": {
      "text/plain": [
       "'1234'"
      ]
     },
     "execution_count": 22,
     "metadata": {},
     "output_type": "execute_result"
    }
   ],
   "source": [
    "str(1234)"
   ]
  },
  {
   "cell_type": "code",
   "execution_count": 26,
   "metadata": {},
   "outputs": [],
   "source": [
    "string = 'Chicago'"
   ]
  },
  {
   "cell_type": "code",
   "execution_count": 27,
   "metadata": {},
   "outputs": [],
   "source": [
    "prompt = 'Enter a number between 0 and ' + str(len(string) - 1)"
   ]
  },
  {
   "cell_type": "code",
   "execution_count": 28,
   "metadata": {},
   "outputs": [
    {
     "data": {
      "text/plain": [
       "'Enter a number between 0 and 6'"
      ]
     },
     "execution_count": 28,
     "metadata": {},
     "output_type": "execute_result"
    }
   ],
   "source": [
    "prompt"
   ]
  },
  {
   "cell_type": "code",
   "execution_count": 29,
   "metadata": {},
   "outputs": [
    {
     "data": {
      "text/plain": [
       "'Chicago'"
      ]
     },
     "execution_count": 29,
     "metadata": {},
     "output_type": "execute_result"
    }
   ],
   "source": [
    "'Chi' + 'cago'"
   ]
  },
  {
   "cell_type": "markdown",
   "metadata": {},
   "source": [
    "* write a Python program which asks the user for a string and then outputs the same string with each character duplicated"
   ]
  },
  {
   "cell_type": "code",
   "execution_count": null,
   "metadata": {},
   "outputs": [],
   "source": [
    "# 1. ask for a word\n",
    "# 1a. look at each letter of the word in order\n",
    "# 2. write that letter twice"
   ]
  },
  {
   "cell_type": "code",
   "execution_count": null,
   "metadata": {},
   "outputs": [],
   "source": [
    "# 1. have user input a word / get a word from the user\n",
    "# 2. for each letter of the word:\n",
    "# 3.     print that letter twice"
   ]
  },
  {
   "cell_type": "code",
   "execution_count": 32,
   "metadata": {},
   "outputs": [
    {
     "name": "stdout",
     "output_type": "stream",
     "text": [
      "JJaayy  ZZ"
     ]
    }
   ],
   "source": [
    "word = input('Give me a word/phrase: ') # 1\n",
    "for letter in word: # 2\n",
    "    # print(letter + letter, end='') # 3\n",
    "    print(letter * 2, end='') # 3\n",
    "\n"
   ]
  },
  {
   "cell_type": "code",
   "execution_count": 37,
   "metadata": {},
   "outputs": [
    {
     "name": "stdout",
     "output_type": "stream",
     "text": [
      "this\n",
      "that\n"
     ]
    }
   ],
   "source": [
    "print('this')\n",
    "print('that')"
   ]
  },
  {
   "cell_type": "markdown",
   "metadata": {},
   "source": [
    "## Lab 3: for loops\n",
    "* write a Python program which asks the user for a string and then outputs the same string with each character duplicated\n",
    "  * e.g., if the user enters __Tesla__, your program will output __TTeessllaa__\n",
    "* write a Python program to compute __`n! (= n * n - 1 * n - 2 ... * 1)`__\n",
    "  * so if the user enters a 5, your program should compute __`5 * 4 * 3 * 2 * 1 (120)`__"
   ]
  },
  {
   "cell_type": "code",
   "execution_count": 9,
   "metadata": {},
   "outputs": [],
   "source": [
    "# 5! = 5 x 4 x 3 x 2 x 1\n",
    "# How could we explain to another person how to do this?\n",
    "# 1. ask someone for a positive integer / whole number\n",
    "# 2. multiply that number by every number less than it until you get to 1\n",
    "# 3. example: if the number were 5, then calculate 5 x 4 x 3 x 2 x 1 (= 120)"
   ]
  },
  {
   "cell_type": "code",
   "execution_count": 10,
   "metadata": {},
   "outputs": [],
   "source": [
    "# 1. prompt user \"enter a whole number\" / get result\n",
    "# 1a. convert to int / generate an integer version of it\n",
    "# 2. set the answer/result to the number they entered (e.g., 5)\n",
    "# 3. for each number less than the number they input down to 1:\n",
    "# 4.    multiply the answer/result by that number\n",
    "# 5. print answer/result"
   ]
  },
  {
   "cell_type": "code",
   "execution_count": 45,
   "metadata": {},
   "outputs": [
    {
     "name": "stdout",
     "output_type": "stream",
     "text": [
      "40320\n"
     ]
    }
   ],
   "source": [
    "number = int(input('Enter a whole number and I will tell you its factorial: ')) # 1\n",
    "if number == 0: # note: 0! = 1 (\"corner case\")\n",
    "    result = 1\n",
    "else:\n",
    "    result = number # 2\n",
    "\n",
    "    for num in range(number - 1, 0, -1): # 3\n",
    "        result = result * num # 4\n",
    "\n",
    "print(result)"
   ]
  },
  {
   "cell_type": "code",
   "execution_count": 39,
   "metadata": {},
   "outputs": [
    {
     "name": "stdout",
     "output_type": "stream",
     "text": [
      "0\n",
      "1\n",
      "2\n",
      "3\n"
     ]
    }
   ],
   "source": [
    "for number in range(0, 4):\n",
    "    print(number)"
   ]
  },
  {
   "cell_type": "code",
   "execution_count": 24,
   "metadata": {},
   "outputs": [
    {
     "name": "stdout",
     "output_type": "stream",
     "text": [
      "100\n",
      "101\n",
      "102\n",
      "103\n",
      "104\n",
      "105\n",
      "106\n",
      "107\n",
      "108\n",
      "109\n"
     ]
    }
   ],
   "source": [
    "for count in range(100, 110):\n",
    "    print(count)"
   ]
  },
  {
   "cell_type": "code",
   "execution_count": 12,
   "metadata": {},
   "outputs": [
    {
     "name": "stdout",
     "output_type": "stream",
     "text": [
      "4\n",
      "3\n",
      "2\n",
      "1\n"
     ]
    }
   ],
   "source": [
    "for number in range(4, 0, -1):\n",
    "    print(number)"
   ]
  },
  {
   "cell_type": "code",
   "execution_count": null,
   "metadata": {},
   "outputs": [],
   "source": [
    "# 1. prompt user \"enter a whole number\" / get result\n",
    "# 1a. convert to int / generate an integer version of it\n",
    "# 2. set the answer/result to 1\n",
    "# 3. for each number from 2 to the number they entered:\n",
    "# 4.    multiply the answer/result by that number\n",
    "# 5. print answer/result"
   ]
  },
  {
   "cell_type": "code",
   "execution_count": 48,
   "metadata": {},
   "outputs": [
    {
     "name": "stdout",
     "output_type": "stream",
     "text": [
      "1\n"
     ]
    }
   ],
   "source": [
    "number = int(input('Enter a whole number and I will tell you its factorial: ')) # 1, 1a\n",
    "result = 1 # 2 Note: this handles the 0! corner case (1)\n",
    "\n",
    "for num in range(2, number + 1): # 3\n",
    "    result = result * num # 4\n",
    "\n",
    "print(result) # 5\n"
   ]
  },
  {
   "cell_type": "code",
   "execution_count": 49,
   "metadata": {},
   "outputs": [
    {
     "data": {
      "text/plain": [
       "120"
      ]
     },
     "execution_count": 49,
     "metadata": {},
     "output_type": "execute_result"
    }
   ],
   "source": [
    "5 * 4 * 3 * 2 * 1"
   ]
  },
  {
   "cell_type": "code",
   "execution_count": 50,
   "metadata": {},
   "outputs": [
    {
     "data": {
      "text/plain": [
       "120"
      ]
     },
     "execution_count": 50,
     "metadata": {},
     "output_type": "execute_result"
    }
   ],
   "source": [
    "1 * 2 * 3 * 4 * 5"
   ]
  },
  {
   "cell_type": "code",
   "execution_count": 51,
   "metadata": {},
   "outputs": [
    {
     "data": {
      "text/plain": [
       "15"
      ]
     },
     "execution_count": 51,
     "metadata": {},
     "output_type": "execute_result"
    }
   ],
   "source": [
    "3 * 5"
   ]
  },
  {
   "cell_type": "code",
   "execution_count": 52,
   "metadata": {},
   "outputs": [
    {
     "data": {
      "text/plain": [
       "15"
      ]
     },
     "execution_count": 52,
     "metadata": {},
     "output_type": "execute_result"
    }
   ],
   "source": [
    "5 * 3"
   ]
  },
  {
   "cell_type": "code",
   "execution_count": 53,
   "metadata": {},
   "outputs": [],
   "source": [
    "# 1. given a number\n",
    "# 2. add up all the numbers up to and including that number (e.g., 1 + 2 + 3 + 4 + 5)\n",
    "# 3. tell the result"
   ]
  },
  {
   "cell_type": "code",
   "execution_count": 56,
   "metadata": {},
   "outputs": [],
   "source": [
    "# 1. prompt the user to input an integer/whole number\n",
    "# 1a. int-ify it and put it into a variable called result\n",
    "# 2. for each number from 1 to the number entered - 1:\n",
    "# 3.     add that number to the result\n",
    "# 4. print result"
   ]
  },
  {
   "cell_type": "code",
   "execution_count": 63,
   "metadata": {},
   "outputs": [
    {
     "name": "stdout",
     "output_type": "stream",
     "text": [
      "current result: 5...adding 1 to it\n",
      "current result: 6...adding 2 to it\n",
      "current result: 8...adding 3 to it\n",
      "current result: 11...adding 4 to it\n",
      "15\n"
     ]
    }
   ],
   "source": [
    "number = int(input('Enter a number: ')) # 1, 1a\n",
    "result = number # 1a\n",
    "\n",
    "for num in range(1, result): # 2\n",
    "    print(f'current result: {result}...adding {num} to it')\n",
    "    result = result + num # 3\n",
    "\n",
    "print(result) # 4"
   ]
  },
  {
   "cell_type": "code",
   "execution_count": null,
   "metadata": {},
   "outputs": [],
   "source": [
    "# What if we wanted to start at 0 and then add 1, 2, 3, ...\n",
    "\n",
    "# 1. prompt the user to input an integer/whole number\n",
    "# 1a. int-ify it (and store it in a variable)\n",
    "# 2. make a result variable and put 0 in it (no calculations so far)\n",
    "# 3. for each number from 1 to the number entered:\n",
    "# 4.     add that number to the result\n",
    "# 5. print result"
   ]
  },
  {
   "cell_type": "code",
   "execution_count": 64,
   "metadata": {},
   "outputs": [
    {
     "name": "stdout",
     "output_type": "stream",
     "text": [
      "15\n"
     ]
    }
   ],
   "source": [
    "number = int(input('Enter a number: ')) # 1, 1a\n",
    "result = 0 # 2\n",
    "\n",
    "for num in range(1, number + 1): # 3 \n",
    "    result = result + num # 4 (same as writing result += num)\n",
    "\n",
    "print(result)"
   ]
  },
  {
   "cell_type": "code",
   "execution_count": null,
   "metadata": {},
   "outputs": [],
   "source": [
    "# 1. prompt the user to input an integer/whole number\n",
    "# 2. int-ify, as before\n",
    "# 3. for each number from 1 up to the number they entered:\n",
    "# 4.     if the number divides evenly by 2, it's even, otherwise odd\n",
    "#\n",
    "# e.g., entered 6, your problem will do this:\n",
    "# 1 is odd\n",
    "# 2 is even\n",
    "# 3 is odd\n",
    "# 4 is even\n",
    "# 5 is odd\n",
    "# 6 is even"
   ]
  },
  {
   "cell_type": "code",
   "execution_count": 65,
   "metadata": {},
   "outputs": [
    {
     "name": "stdout",
     "output_type": "stream",
     "text": [
      "1 is odd\n",
      "2 is even\n",
      "3 is odd\n",
      "4 is even\n",
      "5 is odd\n"
     ]
    }
   ],
   "source": [
    "number = int(input('Enter a number: ')) # 1, 2\n",
    "for num in range(1, number + 1): # 3\n",
    "    if num % 2 == 0: # 4 (remainder when dividing by 2)\n",
    "        print(num, 'is even') # 4...\n",
    "    else:\n",
    "        print(num, 'is odd') # 4..."
   ]
  },
  {
   "cell_type": "code",
   "execution_count": null,
   "metadata": {},
   "outputs": [],
   "source": [
    "# 1. prompt the user to input an integer/whole number\n",
    "# 2. int-ify, as before\n",
    "# 3. for each number from one up to the number they entered:\n",
    "# 4.     print out number x number = number^2\n",
    "#\n",
    "# e.g., if entered 5, your program will output:\n",
    "# 1 x 1 = 1\n",
    "# 2 x 2 = 4\n",
    "# 3 x 3 = 9\n",
    "# 4 x 4 = 16\n",
    "# 5 x 5 = 25"
   ]
  },
  {
   "cell_type": "code",
   "execution_count": null,
   "metadata": {},
   "outputs": [],
   "source": [
    "number = int(input('Enter a number: ')) # 1, 2\n",
    "for num in range(1, number + 1): # 3\n",
    "    print(f'{num} x {num} = {num * num}') # 4"
   ]
  }
 ],
 "metadata": {
  "kernelspec": {
   "display_name": "Python 3",
   "language": "python",
   "name": "python3"
  },
  "language_info": {
   "codemirror_mode": {
    "name": "ipython",
    "version": 3
   },
   "file_extension": ".py",
   "mimetype": "text/x-python",
   "name": "python",
   "nbconvert_exporter": "python",
   "pygments_lexer": "ipython3",
   "version": "3.12.2"
  }
 },
 "nbformat": 4,
 "nbformat_minor": 2
}
