{
 "cells": [
  {
   "cell_type": "markdown",
   "metadata": {},
   "source": [
    "# Important Concepts About Python\n",
    "* types of variables: scalars vs. containers\n",
    "  * scalar = a single value (e.g., int, float, bool)\n",
    "  * container = 0+ values can be inside it\n",
    "    * e.g. str, \n"
   ]
  },
  {
   "cell_type": "markdown",
   "metadata": {},
   "source": [
    "# Important Thoughts About Programming\n",
    "* write things down!\n",
    "  1. first write the steps that you could give to another human\n",
    "  1. next, refine those into pseudocode (but still not worrying about coding details)\n",
    "* also consider writing down\n",
    "  * flowcharts or other visual aids\n",
    "* determine test cases\n",
    "  * you should do this beforehand (\"test-driven development\")\n",
    "  * in the case of leap year ... 1900, 2000, 2023, 2024\n",
    "* test your code!\n",
    "  * let someone else run it\n",
    "  * try all test cases (not always possible)\n",
    "  * when things don't work...\n",
    "    * take a break / venue change\n",
    "    * pythontutor.com\n",
    "    * avoid using VS Code Debugger (for now)\n",
    "    * ChatGPT probably fine (\"don't tell me the answer, tell me what direction to go\")\n",
    "* THREE common errors programmers make:\n",
    "  * uninitialized / wrongly initialized variables\n",
    "  * off by one errors\n"
   ]
  },
  {
   "cell_type": "code",
   "execution_count": 10,
   "metadata": {},
   "outputs": [
    {
     "data": {
      "text/plain": [
       "'J'"
      ]
     },
     "execution_count": 10,
     "metadata": {},
     "output_type": "execute_result"
    }
   ],
   "source": [
    "name[0]"
   ]
  },
  {
   "cell_type": "code",
   "execution_count": 11,
   "metadata": {},
   "outputs": [
    {
     "data": {
      "text/plain": [
       "'e'"
      ]
     },
     "execution_count": 11,
     "metadata": {},
     "output_type": "execute_result"
    }
   ],
   "source": [
    "name[1]"
   ]
  },
  {
   "cell_type": "code",
   "execution_count": 12,
   "metadata": {},
   "outputs": [],
   "source": [
    "number = 12345"
   ]
  },
  {
   "cell_type": "code",
   "execution_count": 13,
   "metadata": {},
   "outputs": [],
   "source": [
    "number = 3"
   ]
  },
  {
   "cell_type": "code",
   "execution_count": 15,
   "metadata": {},
   "outputs": [],
   "source": [
    "s = '123456789'"
   ]
  },
  {
   "cell_type": "code",
   "execution_count": 17,
   "metadata": {},
   "outputs": [
    {
     "data": {
      "text/plain": [
       "'5'"
      ]
     },
     "execution_count": 17,
     "metadata": {},
     "output_type": "execute_result"
    }
   ],
   "source": [
    "s[4]"
   ]
  },
  {
   "cell_type": "code",
   "execution_count": 18,
   "metadata": {},
   "outputs": [],
   "source": [
    "number = 123456789"
   ]
  },
  {
   "cell_type": "code",
   "execution_count": 19,
   "metadata": {},
   "outputs": [
    {
     "ename": "TypeError",
     "evalue": "'int' object is not subscriptable",
     "output_type": "error",
     "traceback": [
      "\u001b[0;31m---------------------------------------------------------------------------\u001b[0m",
      "\u001b[0;31mTypeError\u001b[0m                                 Traceback (most recent call last)",
      "Cell \u001b[0;32mIn[19], line 1\u001b[0m\n\u001b[0;32m----> 1\u001b[0m \u001b[43mnumber\u001b[49m\u001b[43m[\u001b[49m\u001b[38;5;241;43m0\u001b[39;49m\u001b[43m]\u001b[49m\n",
      "\u001b[0;31mTypeError\u001b[0m: 'int' object is not subscriptable"
     ]
    }
   ],
   "source": [
    "number[0]"
   ]
  },
  {
   "cell_type": "code",
   "execution_count": 20,
   "metadata": {},
   "outputs": [
    {
     "data": {
      "text/plain": [
       "123"
      ]
     },
     "execution_count": 20,
     "metadata": {},
     "output_type": "execute_result"
    }
   ],
   "source": [
    "int('123')"
   ]
  },
  {
   "cell_type": "code",
   "execution_count": 21,
   "metadata": {},
   "outputs": [
    {
     "data": {
      "text/plain": [
       "22.0"
      ]
     },
     "execution_count": 21,
     "metadata": {},
     "output_type": "execute_result"
    }
   ],
   "source": [
    "float(22)"
   ]
  },
  {
   "cell_type": "code",
   "execution_count": 22,
   "metadata": {},
   "outputs": [
    {
     "data": {
      "text/plain": [
       "'1234'"
      ]
     },
     "execution_count": 22,
     "metadata": {},
     "output_type": "execute_result"
    }
   ],
   "source": [
    "str(1234)"
   ]
  },
  {
   "cell_type": "code",
   "execution_count": 26,
   "metadata": {},
   "outputs": [],
   "source": [
    "string = 'Chicago'"
   ]
  },
  {
   "cell_type": "code",
   "execution_count": 27,
   "metadata": {},
   "outputs": [],
   "source": [
    "prompt = 'Enter a number between 0 and ' + str(len(string) - 1)"
   ]
  },
  {
   "cell_type": "code",
   "execution_count": 28,
   "metadata": {},
   "outputs": [
    {
     "data": {
      "text/plain": [
       "'Enter a number between 0 and 6'"
      ]
     },
     "execution_count": 28,
     "metadata": {},
     "output_type": "execute_result"
    }
   ],
   "source": [
    "prompt"
   ]
  },
  {
   "cell_type": "code",
   "execution_count": 29,
   "metadata": {},
   "outputs": [
    {
     "data": {
      "text/plain": [
       "'Chicago'"
      ]
     },
     "execution_count": 29,
     "metadata": {},
     "output_type": "execute_result"
    }
   ],
   "source": [
    "'Chi' + 'cago'"
   ]
  },
  {
   "cell_type": "markdown",
   "metadata": {},
   "source": [
    "* write a Python program which asks the user for a string and then outputs the same string with each character duplicated"
   ]
  },
  {
   "cell_type": "code",
   "execution_count": null,
   "metadata": {},
   "outputs": [],
   "source": [
    "# 1. ask for a word\n",
    "# 1a. look at each letter of the word in order\n",
    "# 2. write that letter twice"
   ]
  },
  {
   "cell_type": "code",
   "execution_count": null,
   "metadata": {},
   "outputs": [],
   "source": [
    "# 1. have user input a word / get a word from the user\n",
    "# 2. for each letter of the word:\n",
    "# 3.     print that letter twice"
   ]
  },
  {
   "cell_type": "code",
   "execution_count": 32,
   "metadata": {},
   "outputs": [
    {
     "name": "stdout",
     "output_type": "stream",
     "text": [
      "JJaayy  ZZ"
     ]
    }
   ],
   "source": [
    "word = input('Give me a word/phrase: ') # 1\n",
    "for letter in word: # 2\n",
    "    # print(letter + letter, end='') # 3\n",
    "    print(letter * 2, end='') # 3\n",
    "\n"
   ]
  },
  {
   "cell_type": "code",
   "execution_count": 37,
   "metadata": {},
   "outputs": [
    {
     "name": "stdout",
     "output_type": "stream",
     "text": [
      "this\n",
      "that\n"
     ]
    }
   ],
   "source": [
    "print('this')\n",
    "print('that')"
   ]
  },
  {
   "cell_type": "markdown",
   "metadata": {},
   "source": [
    "## Lab 3: for loops\n",
    "* write a Python program which asks the user for a string and then outputs the same string with each character duplicated\n",
    "  * e.g., if the user enters __Tesla__, your program will output __TTeessllaa__\n",
    "* write a Python program to compute __`n! (= n * n - 1 * n - 2 ... * 1)`__\n",
    "  * so if the user enters a 5, your program should compute __`5 * 4 * 3 * 2 * 1 (120)`__"
   ]
  },
  {
   "cell_type": "code",
   "execution_count": 9,
   "metadata": {},
   "outputs": [],
   "source": [
    "# 5! = 5 x 4 x 3 x 2 x 1\n",
    "# How could we explain to another person how to do this?\n",
    "# 1. ask someone for a positive integer / whole number\n",
    "# 2. multiply that number by every number less than it until you get to 1\n",
    "# 3. example: if the number were 5, then calculate 5 x 4 x 3 x 2 x 1 (= 120)"
   ]
  },
  {
   "cell_type": "code",
   "execution_count": 10,
   "metadata": {},
   "outputs": [],
   "source": [
    "# 1. prompt user \"enter a whole number\" / get result\n",
    "# 1a. convert to int / generate an integer version of it\n",
    "# 2. set the answer/result to the number they entered (e.g., 5)\n",
    "# 3. for each number less than the number they input down to 1:\n",
    "# 4.    multiply the answer/result by that number\n",
    "# 5. print answer/result"
   ]
  },
  {
   "cell_type": "code",
   "execution_count": 45,
   "metadata": {},
   "outputs": [
    {
     "name": "stdout",
     "output_type": "stream",
     "text": [
      "40320\n"
     ]
    }
   ],
   "source": [
    "number = int(input('Enter a whole number and I will tell you its factorial: ')) # 1\n",
    "if number == 0: # note: 0! = 1 (\"corner case\")\n",
    "    result = 1\n",
    "else:\n",
    "    result = number # 2\n",
    "\n",
    "    for num in range(number - 1, 0, -1): # 3\n",
    "        result = result * num # 4\n",
    "\n",
    "print(result)"
   ]
  },
  {
   "cell_type": "code",
   "execution_count": 39,
   "metadata": {},
   "outputs": [
    {
     "name": "stdout",
     "output_type": "stream",
     "text": [
      "0\n",
      "1\n",
      "2\n",
      "3\n"
     ]
    }
   ],
   "source": [
    "for number in range(0, 4):\n",
    "    print(number)"
   ]
  },
  {
   "cell_type": "code",
   "execution_count": 24,
   "metadata": {},
   "outputs": [
    {
     "name": "stdout",
     "output_type": "stream",
     "text": [
      "100\n",
      "101\n",
      "102\n",
      "103\n",
      "104\n",
      "105\n",
      "106\n",
      "107\n",
      "108\n",
      "109\n"
     ]
    }
   ],
   "source": [
    "for count in range(100, 110):\n",
    "    print(count)"
   ]
  },
  {
   "cell_type": "code",
   "execution_count": 12,
   "metadata": {},
   "outputs": [
    {
     "name": "stdout",
     "output_type": "stream",
     "text": [
      "4\n",
      "3\n",
      "2\n",
      "1\n"
     ]
    }
   ],
   "source": [
    "for number in range(4, 0, -1):\n",
    "    print(number)"
   ]
  },
  {
   "cell_type": "code",
   "execution_count": null,
   "metadata": {},
   "outputs": [],
   "source": [
    "# 1. prompt user \"enter a whole number\" / get result\n",
    "# 1a. convert to int / generate an integer version of it\n",
    "# 2. set the answer/result to 1\n",
    "# 3. for each number from 2 to the number they entered:\n",
    "# 4.    multiply the answer/result by that number\n",
    "# 5. print answer/result"
   ]
  },
  {
   "cell_type": "code",
   "execution_count": 48,
   "metadata": {},
   "outputs": [
    {
     "name": "stdout",
     "output_type": "stream",
     "text": [
      "1\n"
     ]
    }
   ],
   "source": [
    "number = int(input('Enter a whole number and I will tell you its factorial: ')) # 1, 1a\n",
    "result = 1 # 2 Note: this handles the 0! corner case (1)\n",
    "\n",
    "for num in range(2, number + 1): # 3\n",
    "    result = result * num # 4\n",
    "\n",
    "print(result) # 5\n"
   ]
  },
  {
   "cell_type": "code",
   "execution_count": 49,
   "metadata": {},
   "outputs": [
    {
     "data": {
      "text/plain": [
       "120"
      ]
     },
     "execution_count": 49,
     "metadata": {},
     "output_type": "execute_result"
    }
   ],
   "source": [
    "5 * 4 * 3 * 2 * 1"
   ]
  },
  {
   "cell_type": "code",
   "execution_count": 50,
   "metadata": {},
   "outputs": [
    {
     "data": {
      "text/plain": [
       "120"
      ]
     },
     "execution_count": 50,
     "metadata": {},
     "output_type": "execute_result"
    }
   ],
   "source": [
    "1 * 2 * 3 * 4 * 5"
   ]
  },
  {
   "cell_type": "code",
   "execution_count": 51,
   "metadata": {},
   "outputs": [
    {
     "data": {
      "text/plain": [
       "15"
      ]
     },
     "execution_count": 51,
     "metadata": {},
     "output_type": "execute_result"
    }
   ],
   "source": [
    "3 * 5"
   ]
  },
  {
   "cell_type": "code",
   "execution_count": 52,
   "metadata": {},
   "outputs": [
    {
     "data": {
      "text/plain": [
       "15"
      ]
     },
     "execution_count": 52,
     "metadata": {},
     "output_type": "execute_result"
    }
   ],
   "source": [
    "5 * 3"
   ]
  },
  {
   "cell_type": "code",
   "execution_count": 53,
   "metadata": {},
   "outputs": [],
   "source": [
    "# 1. given a number\n",
    "# 2. add up all the numbers up to and including that number (e.g., 1 + 2 + 3 + 4 + 5)\n",
    "# 3. tell the result"
   ]
  },
  {
   "cell_type": "code",
   "execution_count": 56,
   "metadata": {},
   "outputs": [],
   "source": [
    "# 1. prompt the user to input an integer/whole number\n",
    "# 1a. int-ify it and put it into a variable called result\n",
    "# 2. for each number from 1 to the number entered - 1:\n",
    "# 3.     add that number to the result\n",
    "# 4. print result"
   ]
  },
  {
   "cell_type": "code",
   "execution_count": 63,
   "metadata": {},
   "outputs": [
    {
     "name": "stdout",
     "output_type": "stream",
     "text": [
      "current result: 5...adding 1 to it\n",
      "current result: 6...adding 2 to it\n",
      "current result: 8...adding 3 to it\n",
      "current result: 11...adding 4 to it\n",
      "15\n"
     ]
    }
   ],
   "source": [
    "number = int(input('Enter a number: ')) # 1, 1a\n",
    "result = number # 1a\n",
    "\n",
    "for num in range(1, result): # 2\n",
    "    print(f'current result: {result}...adding {num} to it')\n",
    "    result = result + num # 3\n",
    "\n",
    "print(result) # 4"
   ]
  },
  {
   "cell_type": "code",
   "execution_count": null,
   "metadata": {},
   "outputs": [],
   "source": [
    "# What if we wanted to start at 0 and then add 1, 2, 3, ...\n",
    "\n",
    "# 1. prompt the user to input an integer/whole number\n",
    "# 1a. int-ify it (and store it in a variable)\n",
    "# 2. make a result variable and put 0 in it (no calculations so far)\n",
    "# 3. for each number from 1 to the number entered:\n",
    "# 4.     add that number to the result\n",
    "# 5. print result"
   ]
  },
  {
   "cell_type": "code",
   "execution_count": 64,
   "metadata": {},
   "outputs": [
    {
     "name": "stdout",
     "output_type": "stream",
     "text": [
      "15\n"
     ]
    }
   ],
   "source": [
    "number = int(input('Enter a number: ')) # 1, 1a\n",
    "result = 0 # 2\n",
    "\n",
    "for num in range(1, number + 1): # 3 \n",
    "    result = result + num # 4 (same as writing result += num)\n",
    "\n",
    "print(result)"
   ]
  },
  {
   "cell_type": "code",
   "execution_count": null,
   "metadata": {},
   "outputs": [],
   "source": [
    "# 1. prompt the user to input an integer/whole number\n",
    "# 2. int-ify, as before\n",
    "# 3. for each number from 1 up to the number they entered:\n",
    "# 4.     if the number divides evenly by 2, it's even, otherwise odd\n",
    "#\n",
    "# e.g., entered 6, your problem will do this:\n",
    "# 1 is odd\n",
    "# 2 is even\n",
    "# 3 is odd\n",
    "# 4 is even\n",
    "# 5 is odd\n",
    "# 6 is even"
   ]
  },
  {
   "cell_type": "code",
   "execution_count": 65,
   "metadata": {},
   "outputs": [
    {
     "name": "stdout",
     "output_type": "stream",
     "text": [
      "1 is odd\n",
      "2 is even\n",
      "3 is odd\n",
      "4 is even\n",
      "5 is odd\n"
     ]
    }
   ],
   "source": [
    "number = int(input('Enter a number: ')) # 1, 2\n",
    "for num in range(1, number + 1): # 3\n",
    "    if num % 2 == 0: # 4 (remainder when dividing by 2)\n",
    "        print(num, 'is even') # 4...\n",
    "    else:\n",
    "        print(num, 'is odd') # 4..."
   ]
  },
  {
   "cell_type": "code",
   "execution_count": null,
   "metadata": {},
   "outputs": [],
   "source": [
    "# 1. prompt the user to input an integer/whole number\n",
    "# 2. int-ify, as before\n",
    "# 3. for each number from one up to the number they entered:\n",
    "# 4.     print out number x number = number^2\n",
    "#\n",
    "# e.g., if entered 5, your program will output:\n",
    "# 1 x 1 = 1\n",
    "# 2 x 2 = 4\n",
    "# 3 x 3 = 9\n",
    "# 4 x 4 = 16\n",
    "# 5 x 5 = 25"
   ]
  },
  {
   "cell_type": "code",
   "execution_count": null,
   "metadata": {},
   "outputs": [],
   "source": [
    "number = int(input('Enter a number: ')) # 1, 2\n",
    "for num in range(1, number + 1): # 3\n",
    "    print(f'{num} x {num} = {num * num}') # 4"
   ]
  },
  {
   "cell_type": "code",
   "execution_count": 68,
   "metadata": {},
   "outputs": [
    {
     "ename": "ValueError",
     "evalue": "invalid literal for int() with base 10: 'four'",
     "output_type": "error",
     "traceback": [
      "\u001b[0;31m---------------------------------------------------------------------------\u001b[0m",
      "\u001b[0;31mValueError\u001b[0m                                Traceback (most recent call last)",
      "Cell \u001b[0;32mIn[68], line 1\u001b[0m\n\u001b[0;32m----> 1\u001b[0m number \u001b[38;5;241m=\u001b[39m \u001b[38;5;28;43mint\u001b[39;49m\u001b[43m(\u001b[49m\u001b[38;5;28;43minput\u001b[39;49m\u001b[43m(\u001b[49m\u001b[38;5;124;43m'\u001b[39;49m\u001b[38;5;124;43mEnter a number: \u001b[39;49m\u001b[38;5;124;43m'\u001b[39;49m\u001b[43m)\u001b[49m\u001b[43m)\u001b[49m\n",
      "\u001b[0;31mValueError\u001b[0m: invalid literal for int() with base 10: 'four'"
     ]
    }
   ],
   "source": [
    "number = int(input('Enter a number: '))"
   ]
  },
  {
   "cell_type": "code",
   "execution_count": 69,
   "metadata": {},
   "outputs": [],
   "source": [
    "number = int(input('Enter a positive number: '))"
   ]
  },
  {
   "cell_type": "code",
   "execution_count": 70,
   "metadata": {},
   "outputs": [
    {
     "data": {
      "text/plain": [
       "-4"
      ]
     },
     "execution_count": 70,
     "metadata": {},
     "output_type": "execute_result"
    }
   ],
   "source": [
    "number"
   ]
  },
  {
   "cell_type": "code",
   "execution_count": 73,
   "metadata": {},
   "outputs": [
    {
     "name": "stdout",
     "output_type": "stream",
     "text": [
      "result is 0, now adding 1\n",
      "result is 1, now adding 3\n",
      "result is 4, now adding 5\n",
      "result is 9, now adding 7\n",
      "result is 16, now adding 9\n",
      "result is 25, now adding 11\n",
      "result is 36, now adding 13\n",
      "49\n"
     ]
    }
   ],
   "source": [
    "# What if we wanted to sum every other number...?\n",
    "\n",
    "number = int(input('Enter a number: ')) # 1, 1a\n",
    "result = 0 # 2\n",
    "\n",
    "for num in range(1, number + 1, 2): # 3\n",
    "    print(f'result is {result}, now adding {num}')\n",
    "    result = result + num # 4 (same as writing result += num)\n",
    "\n",
    "print(result)"
   ]
  },
  {
   "cell_type": "code",
   "execution_count": 74,
   "metadata": {},
   "outputs": [],
   "source": [
    "answer = 0\n",
    "\n",
    "while answer < 1:\n",
    "    answer = int(input('Enter a number > 0: '))"
   ]
  },
  {
   "cell_type": "markdown",
   "metadata": {},
   "source": [
    "## exercise\n",
    "1. write Python code which prompts the user to enter a 5-letter string\n",
    "  * it then reads input from the user and stops if the user did in fact enter a 5-letter string\n",
    "  * otherwise, it prints an error message, and once again asks the user to enter a 5-letter string"
   ]
  },
  {
   "cell_type": "code",
   "execution_count": 75,
   "metadata": {},
   "outputs": [],
   "source": [
    "# 1. ask for a 5-letter word\n",
    "# 2. if word is not 5 letters long\n",
    "# 3.    tell them it's not 5 letter long, try again"
   ]
  },
  {
   "cell_type": "code",
   "execution_count": 76,
   "metadata": {},
   "outputs": [],
   "source": [
    "# 1. get user input, prompting for a 5-letter word\n",
    "# 2. while the length of the word is not 5:\n",
    "# 3.     print error message\n",
    "# 4.     get user input, prompting for a 5-letter word "
   ]
  },
  {
   "cell_type": "code",
   "execution_count": 77,
   "metadata": {},
   "outputs": [],
   "source": [
    "# 1. get user input, prompting for a 5-letter word\n",
    "# 2. while the length of the word is not 5:\n",
    "# 3.     print error message\n",
    "# 4.     get user input, prompting for a 5-letter word "
   ]
  },
  {
   "cell_type": "code",
   "execution_count": 78,
   "metadata": {},
   "outputs": [],
   "source": [
    "word = input('Enter a 5-letter word: ') # 1\n",
    "\n",
    "while len(word) != 5: # 2\n",
    "    print(word, 'is not a 5-letter word!') # 3\n",
    "    word = input('Enter a 5-letter word: ') # 4"
   ]
  },
  {
   "cell_type": "code",
   "execution_count": 79,
   "metadata": {},
   "outputs": [],
   "source": [
    "# EXERCISE: Python program which picks a random number between 1 and 100 and asks the user to guess it\n",
    "# 1. pick a number between 1 and 100\n",
    "# 2. ask the person \"I picked a number between 1 and 100...what's your guess?\"\n",
    "# 3. if the user's guess is higher than the number, say it's \"too high\"\n",
    "# 4. if the user's guess is lower than the number, say it's \"too low\"\n",
    "# 5. if the user's guess is correct, say \"you got it!\""
   ]
  },
  {
   "cell_type": "code",
   "execution_count": 80,
   "metadata": {},
   "outputs": [],
   "source": [
    "# 1. program will generate a number between 1 and 100\n",
    "# 1a. set guess count to 0\n",
    "# 2. until the user guesses the number:\n",
    "# 3.     ask the person \"I picked a number between 1 and 100...what's your guess? (enter 0 to quit)\"\n",
    "# 3a.    if guess is 0, then 'Thanks' and quit\n",
    "# 3b.    if guess < 1 or guess > 100 then \"bad guess\"\n",
    "# ---------- guess is good ----------\n",
    "# 4.     this counts as a guess, so increment the guess count\n",
    "# 4a.    if the user's guess is higher than the number, say it's \"too high\"\n",
    "# 5.     if the user's guess is lower than the number, say it's \"too low\"\n",
    "# 6.     if the user's guess is correct, say \"you got it!\"\n",
    "# 7.     if difference between guess and number is <= 10 then \"close\"\n",
    "\n",
    "# once it works...here are some additional wrinkles\n",
    "# - count the guesses and tell them how many it took for them to get it right\n",
    "# - if the user guesses a number outside of the acceptable range (1..100)\n",
    "#     tell them it's a bad guess\n",
    "# - let the user/player know if their guess is \"close\" (maybe within 10 of the number)\n",
    "#   - there is an abs() function, which will remove the sign (negative) of a number,\n",
    "#   - so suppose number is 57 and they guessed 53 ... abs(53 - 57) is 4 (try it)\n",
    "# - allow user to quit the game, perhaps by entering 0 as their guess\n",
    "# (we will need the 'break' statement which we have yet to learn for this)"
   ]
  },
  {
   "cell_type": "code",
   "execution_count": 81,
   "metadata": {},
   "outputs": [
    {
     "name": "stdout",
     "output_type": "stream",
     "text": [
      "Thanks for playing!\n"
     ]
    }
   ],
   "source": [
    "import random # 1...make the random module (library) available for our use\n",
    "number = random.randint(1, 100) # also 1...generate a random number between 1 and 100\n",
    "guess = 0 # we need guess to exist before we ask the question in the while loop!\n",
    "guess_count = 0 # 1a, keep track of number of guesses\n",
    "\n",
    "#print('secret number is', number)\n",
    "\n",
    "while guess != number: # 2\n",
    "    guess = int(input('What is your guess (0 will quit the game)? ')) # 3 ... don't forget to int-ify!\n",
    "    \n",
    "    # 1st question? Do they want to quit?\n",
    "    if guess == 0: # 3a\n",
    "        break\n",
    "\n",
    "    # 2nd question? Is their guess bad/bogus/invalid?\n",
    "    if guess < 1 or guess > 100: # 3b\n",
    "        print('Bad guess...should be between 1 and 100!')\n",
    "        continue # try again\n",
    "\n",
    "    # at this point, they have guessed a valid guess\n",
    "    guess_count = guess_count + 1 # guess_count += 1 \n",
    "    \n",
    "    # 3rd question...is their guess too high/too low/correct\n",
    "    if guess > number: # 4a\n",
    "        print('Too high!') # 4a\n",
    "    elif guess < number: # 5\n",
    "        print('Too low!') # 5\n",
    "    else: # 6\n",
    "        print(f'You got it in {guess_count} guesses!') # 6\n",
    "        \n",
    "    # 4th question...are they close?\n",
    "    # if they're too high ot they're too low\n",
    "    # then we'll do the close check\n",
    "    if 1 <= abs(guess - number) <= 10: # 7\n",
    "        print(\"...but you're close!\")\n",
    "        \n",
    "print('Thanks for playing!')"
   ]
  },
  {
   "cell_type": "code",
   "execution_count": 82,
   "metadata": {},
   "outputs": [],
   "source": [
    "number = 73\n",
    "guess = 68"
   ]
  },
  {
   "cell_type": "code",
   "execution_count": 83,
   "metadata": {},
   "outputs": [
    {
     "data": {
      "text/plain": [
       "5"
      ]
     },
     "execution_count": 83,
     "metadata": {},
     "output_type": "execute_result"
    }
   ],
   "source": [
    "abs(guess - number)"
   ]
  },
  {
   "cell_type": "code",
   "execution_count": 84,
   "metadata": {},
   "outputs": [
    {
     "data": {
      "text/plain": [
       "5"
      ]
     },
     "execution_count": 84,
     "metadata": {},
     "output_type": "execute_result"
    }
   ],
   "source": [
    "abs(number - guess)"
   ]
  },
  {
   "cell_type": "code",
   "execution_count": 85,
   "metadata": {},
   "outputs": [
    {
     "data": {
      "text/plain": [
       "True"
      ]
     },
     "execution_count": 85,
     "metadata": {},
     "output_type": "execute_result"
    }
   ],
   "source": [
    "abs(guess - number) <= 10"
   ]
  },
  {
   "cell_type": "code",
   "execution_count": null,
   "metadata": {},
   "outputs": [],
   "source": []
  }
 ],
 "metadata": {
  "kernelspec": {
   "display_name": "Python 3",
   "language": "python",
   "name": "python3"
  },
  "language_info": {
   "codemirror_mode": {
    "name": "ipython",
    "version": 3
   },
   "file_extension": ".py",
   "mimetype": "text/x-python",
   "name": "python",
   "nbconvert_exporter": "python",
   "pygments_lexer": "ipython3",
   "version": "3.12.2"
  }
 },
 "nbformat": 4,
 "nbformat_minor": 2
}
